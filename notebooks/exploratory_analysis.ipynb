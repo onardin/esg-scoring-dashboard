{
 "cells": [
  {
   "cell_type": "markdown",
   "metadata": {},
   "source": [
    "# ESG Scoring Dashboard - Exploratory Analysis\n",
    "\n",
    "This notebook provides exploratory data analysis for the ESG scoring system, including data quality assessment, correlation analysis, and preliminary insights."
   ]
  },
  {
   "cell_type": "markdown",
   "metadata": {},
   "source": [
    "## Setup and Imports"
   ]
  },
  {
   "cell_type": "code",
   "execution_count": null,
   "metadata": {},
   "outputs": [],
   "source": [
    "import pandas as pd\n",
    "import numpy as np\n",
    "import matplotlib.pyplot as plt\n",
    "import seaborn as sns\n",
    "from scipy import stats\n",
    "import warnings\n",
    "warnings.filterwarnings('ignore')\n",
    "\n",
    "# Set plotting style\n",
    "plt.style.use('default')\n",
    "sns.set_palette(\"husl\")\n",
    "\n",
    "%matplotlib inline"
   ]
  },
  {
   "cell_type": "markdown",
   "metadata": {},
   "source": [
    "## Data Loading and Initial Exploration"
   ]
  },
  {
   "cell_type": "code",
   "execution_count": null,
   "metadata": {},
   "outputs": [],
   "source": [
    "# Load sample data (replace with actual data paths when available)\n",
    "# For demonstration, we'll create sample data\n",
    "\n",
    "np.random.seed(42)\n",
    "\n",
    "# Create sample dataset\n",
    "companies = ['AAPL', 'MSFT', 'GOOGL', 'AMZN', 'TSLA', 'META', 'NVDA', 'JPM', 'JNJ', 'PG',\n",
    "           'KO', 'DIS', 'NFLX', 'ADBE', 'CRM', 'INTC', 'CSCO', 'PEP', 'WMT', 'HD']\n",
    "\n",
    "sectors = ['Technology', 'Technology', 'Technology', 'Consumer Discretionary', 'Automotive',\n",
    "          'Technology', 'Technology', 'Financial', 'Healthcare', 'Consumer Staples',\n",
    "          'Consumer Staples', 'Consumer Discretionary', 'Technology', 'Technology', 'Technology',\n",
    "          'Technology', 'Technology', 'Consumer Staples', 'Consumer Staples', 'Consumer Discretionary']\n",
    "\n",
    "data = []\n",
    "for i, (ticker, sector) in enumerate(zip(companies, sectors)):\n",
    "    base_esg = np.random.normal(60, 15)\n",
    "    \n",
    "    data_point = {\n",
    "        'ticker': ticker,\n",
    "        'company_name': f'{ticker} Inc.',\n",
    "        'sector': sector,\n",
    "        'environmental_score': np.clip(base_esg + np.random.normal(0, 8), 0, 100),\n",
    "        'social_score': np.clip(base_esg + np.random.normal(0, 8), 0, 100),\n",
    "        'governance_score': np.clip(base_esg + np.random.normal(0, 8), 0, 100),\n",
    "        'market_cap': np.random.lognormal(25, 1),\n",
    "        'revenue': np.random.lognormal(24, 1),\n",
    "        'price_change_1y': np.random.normal(10, 25),\n",
    "        'volatility': np.random.uniform(15, 45),\n",
    "        'pe_ratio': np.random.uniform(8, 40),\n",
    "        'roe': np.random.uniform(5, 30),\n",
    "        'debt_to_equity': np.random.uniform(0.1, 2.0),\n",
    "    }\n",
    "    \n",
    "    data_point['esg_score'] = (data_point['environmental_score'] + \n",
    "                              data_point['social_score'] + \n",
    "                              data_point['governance_score']) / 3\n",
    "    \n",
    "    data.append(data_point)\n",
    "\n",
    "df = pd.DataFrame(data)\n",
    "print(f\"Dataset shape: {df.shape}\")\n",
    "df.head()"
   ]
  },
  {
   "cell_type": "markdown",
   "metadata": {},
   "source": [
    "## Data Quality Assessment"
   ]
  },
  {
   "cell_type": "code",
   "execution_count": null,
   "metadata": {},
   "outputs": [],
   "source": [
    "# Basic data info\n",
    "print(\"Dataset Information:\")\n",
    "print(df.info())\n",
    "print(\"\\nMissing Values:\")\n",
    "print(df.isnull().sum())\n",
    "print(\"\\nBasic Statistics:\")\n",
    "print(df.describe())"
   ]
  },
  {
   "cell_type": "markdown",
   "metadata": {},
   "source": [
    "## ESG Score Distribution Analysis"
   ]
  },
  {
   "cell_type": "code",
   "execution_count": null,
   "metadata": {},
   "outputs": [],
   "source": [
    "# ESG score distributions\n",
    "fig, axes = plt.subplots(2, 2, figsize=(15, 10))\n",
    "fig.suptitle('ESG Score Distributions', fontsize=16)\n",
    "\n",
    "# Overall ESG Score\n",
    "axes[0, 0].hist(df['esg_score'], bins=15, alpha=0.7, color='green')\n",
    "axes[0, 0].set_title('Overall ESG Score')\n",
    "axes[0, 0].set_xlabel('ESG Score')\n",
    "axes[0, 0].set_ylabel('Frequency')\n",
    "\n",
    "# Environmental Score\n",
    "axes[0, 1].hist(df['environmental_score'], bins=15, alpha=0.7, color='blue')\n",
    "axes[0, 1].set_title('Environmental Score')\n",
    "axes[0, 1].set_xlabel('Environmental Score')\n",
    "axes[0, 1].set_ylabel('Frequency')\n",
    "\n",
    "# Social Score\n",
    "axes[1, 0].hist(df['social_score'], bins=15, alpha=0.7, color='orange')\n",
    "axes[1, 0].set_title('Social Score')\n",
    "axes[1, 0].set_xlabel('Social Score')\n",
    "axes[1, 0].set_ylabel('Frequency')\n",
    "\n",
    "# Governance Score\n",
    "axes[1, 1].hist(df['governance_score'], bins=15, alpha=0.7, color='red')\n",
    "axes[1, 1].set_title('Governance Score')\n",
    "axes[1, 1].set_xlabel('Governance Score')\n",
    "axes[1, 1].set_ylabel('Frequency')\n",
    "\n",
    "plt.tight_layout()\n",
    "plt.show()"
   ]
  },
  {
   "cell_type": "markdown",
   "metadata": {},
   "source": [
    "## Sector Analysis"
   ]
  },
  {
   "cell_type": "code",
   "execution_count": null,
   "metadata": {},
   "outputs": [],
   "source": [
    "# ESG scores by sector\n",
    "plt.figure(figsize=(12, 8))\n",
    "\n",
    "# Box plot of ESG scores by sector\n",
    "df_melted = df.melt(id_vars=['sector'], \n",
    "                   value_vars=['environmental_score', 'social_score', 'governance_score'],\n",
    "                   var_name='ESG_Component', value_name='Score')\n",
    "\n",
    "sns.boxplot(data=df_melted, x='sector', y='Score', hue='ESG_Component')\n",
    "plt.title('ESG Component Scores by Sector')\n",
    "plt.xlabel('Sector')\n",
    "plt.ylabel('ESG Score')\n",
    "plt.xticks(rotation=45)\n",
    "plt.legend(title='ESG Component')\n",
    "plt.tight_layout()\n",
    "plt.show()\n",
    "\n",
    "# Average ESG score by sector\n",
    "sector_avg = df.groupby('sector')['esg_score'].mean().sort_values(ascending=False)\n",
    "print(\"\\nAverage ESG Score by Sector:\")\n",
    "print(sector_avg)"
   ]
  },
  {
   "cell_type": "markdown",
   "metadata": {},
   "source": [
    "## ESG-Financial Performance Correlation Analysis"
   ]
  },
  {
   "cell_type": "code",
   "execution_count": null,
   "metadata": {},
   "outputs": [],
   "source": [
    "# Correlation matrix\n",
    "correlation_cols = ['esg_score', 'environmental_score', 'social_score', 'governance_score',\n",
    "                   'price_change_1y', 'volatility', 'pe_ratio', 'roe', 'debt_to_equity']\n",
    "\n",
    "corr_matrix = df[correlation_cols].corr()\n",
    "\n",
    "plt.figure(figsize=(12, 10))\n",
    "sns.heatmap(corr_matrix, annot=True, cmap='RdBu_r', center=0, square=True, \n",
    "            fmt='.2f', cbar_kws={'label': 'Correlation Coefficient'})\n",
    "plt.title('ESG-Financial Metrics Correlation Matrix')\n",
    "plt.tight_layout()\n",
    "plt.show()\n",
    "\n",
    "# Print strongest correlations with ESG score\n",
    "esg_correlations = corr_matrix['esg_score'].drop('esg_score').abs().sort_values(ascending=False)\n",
    "print(\"\\nStrongest correlations with overall ESG Score:\")\n",
    "print(esg_correlations)"
   ]
  },
  {
   "cell_type": "markdown",
   "metadata": {},
   "source": [
    "## Scatter Plot Analysis"
   ]
  },
  {
   "cell_type": "code",
   "execution_count": null,
   "metadata": {},
   "outputs": [],
   "source": [
    "# Scatter plots of ESG vs Financial metrics\n",
    "fig, axes = plt.subplots(2, 2, figsize=(15, 12))\n",
    "fig.suptitle('ESG Score vs Financial Performance Metrics', fontsize=16)\n",
    "\n",
    "# ESG vs Stock Return\n",
    "axes[0, 0].scatter(df['esg_score'], df['price_change_1y'], alpha=0.7, color='green')\n",
    "axes[0, 0].set_xlabel('ESG Score')\n",
    "axes[0, 0].set_ylabel('1-Year Price Change (%)')\n",
    "axes[0, 0].set_title('ESG Score vs Stock Return')\n",
    "# Add trend line\n",
    "z = np.polyfit(df['esg_score'], df['price_change_1y'], 1)\n",
    "p = np.poly1d(z)\n",
    "axes[0, 0].plot(df['esg_score'], p(df['esg_score']), \"r--\", alpha=0.8)\n",
    "\n",
    "# ESG vs Volatility\n",
    "axes[0, 1].scatter(df['esg_score'], df['volatility'], alpha=0.7, color='blue')\n",
    "axes[0, 1].set_xlabel('ESG Score')\n",
    "axes[0, 1].set_ylabel('Volatility (%)')\n",
    "axes[0, 1].set_title('ESG Score vs Volatility')\n",
    "z = np.polyfit(df['esg_score'], df['volatility'], 1)\n",
    "p = np.poly1d(z)\n",
    "axes[0, 1].plot(df['esg_score'], p(df['esg_score']), \"r--\", alpha=0.8)\n",
    "\n",
    "# ESG vs ROE\n",
    "axes[1, 0].scatter(df['esg_score'], df['roe'], alpha=0.7, color='orange')\n",
    "axes[1, 0].set_xlabel('ESG Score')\n",
    "axes[1, 0].set_ylabel('Return on Equity (%)')\n",
    "axes[1, 0].set_title('ESG Score vs ROE')\n",
    "z = np.polyfit(df['esg_score'], df['roe'], 1)\n",
    "p = np.poly1d(z)\n",
    "axes[1, 0].plot(df['esg_score'], p(df['esg_score']), \"r--\", alpha=0.8)\n",
    "\n",
    "# ESG vs P/E Ratio\n",
    "axes[1, 1].scatter(df['esg_score'], df['pe_ratio'], alpha=0.7, color='red')\n",
    "axes[1, 1].set_xlabel('ESG Score')\n",
    "axes[1, 1].set_ylabel('P/E Ratio')\n",
    "axes[1, 1].set_title('ESG Score vs P/E Ratio')\n",
    "z = np.polyfit(df['esg_score'], df['pe_ratio'], 1)\n",
    "p = np.poly1d(z)\n",
    "axes[1, 1].plot(df['esg_score'], p(df['esg_score']), \"r--\", alpha=0.8)\n",
    "\n",
    "plt.tight_layout()\n",
    "plt.show()"
   ]
  },
  {
   "cell_type": "markdown",
   "metadata": {},
   "source": [
    "## Statistical Significance Testing"
   ]
  },
  {
   "cell_type": "code",
   "execution_count": null,
   "metadata": {},
   "outputs": [],
   "source": [
    "# Test statistical significance of correlations\n",
    "financial_metrics = ['price_change_1y', 'volatility', 'pe_ratio', 'roe', 'debt_to_equity']\n",
    "\n",
    "print(\"Statistical Significance of ESG-Financial Correlations:\")\n",
    "print(\"=\" * 55)\n",
    "\n",
    "for metric in financial_metrics:\n",
    "    correlation, p_value = stats.pearsonr(df['esg_score'], df[metric])\n",
    "    significance = \"Significant\" if p_value < 0.05 else \"Not Significant\"\n",
    "    \n",
    "    print(f\"ESG Score vs {metric}:\")\n",
    "    print(f\"  Correlation: {correlation:.3f}\")\n",
    "    print(f\"  P-value: {p_value:.4f}\")\n",
    "    print(f\"  Significance: {significance}\")\n",
    "    print()"
   ]
  },
  {
   "cell_type": "markdown",
   "metadata": {},
   "source": [
    "## ESG Component Relationships"
   ]
  },
  {
   "cell_type": "code",
   "execution_count": null,
   "metadata": {},
   "outputs": [],
   "source": [
    "# Correlation between ESG components\n",
    "esg_components = ['environmental_score', 'social_score', 'governance_score']\n",
    "esg_corr = df[esg_components].corr()\n",
    "\n",
    "plt.figure(figsize=(8, 6))\n",
    "sns.heatmap(esg_corr, annot=True, cmap='Blues', square=True, fmt='.3f',\n",
    "           cbar_kws={'label': 'Correlation Coefficient'})\n",
    "plt.title('Correlation Between ESG Components')\n",
    "plt.tight_layout()\n",
    "plt.show()\n",
    "\n",
    "# ESG component statistics\n",
    "print(\"ESG Component Statistics:\")\n",
    "print(df[esg_components + ['esg_score']].describe())"
   ]
  },
  {
   "cell_type": "markdown",
   "metadata": {},
   "source": [
    "## Top and Bottom Performers Analysis"
   ]
  },
  {
   "cell_type": "code",
   "execution_count": null,
   "metadata": {},
   "outputs": [],
   "source": [
    "# Top 5 ESG performers\n",
    "top_esg = df.nlargest(5, 'esg_score')[['ticker', 'sector', 'esg_score', 'environmental_score', 'social_score', 'governance_score']]\n",
    "print(\"Top 5 ESG Performers:\")\n",
    "print(top_esg)\n",
    "\n",
    "print(\"\\n\" + \"=\"*50 + \"\\n\")\n",
    "\n",
    "# Bottom 5 ESG performers\n",
    "bottom_esg = df.nsmallest(5, 'esg_score')[['ticker', 'sector', 'esg_score', 'environmental_score', 'social_score', 'governance_score']]\n",
    "print(\"Bottom 5 ESG Performers:\")\n",
    "print(bottom_esg)\n",
    "\n",
    "# Compare financial performance\n",
    "print(\"\\n\" + \"=\"*50 + \"\\n\")\n",
    "print(\"Financial Performance Comparison:\")\n",
    "print(\"Top ESG Performers - Average Financial Metrics:\")\n",
    "top_financial = df.nlargest(5, 'esg_score')[['price_change_1y', 'volatility', 'pe_ratio', 'roe']].mean()\n",
    "print(top_financial)\n",
    "\n",
    "print(\"\\nBottom ESG Performers - Average Financial Metrics:\")\n",
    "bottom_financial = df.nsmallest(5, 'esg_score')[['price_change_1y', 'volatility', 'pe_ratio', 'roe']].mean()\n",
    "print(bottom_financial)"
   ]
  },
  {
   "cell_type": "markdown",
   "metadata": {},
   "source": [
    "## Key Insights and Conclusions"
   ]
  },
  {
   "cell_type": "markdown",
   "metadata": {},
   "source": [
    "### Summary of Findings:\n",
    "\n",
    "1. **ESG Score Distribution**: The ESG scores show a roughly normal distribution with most companies scoring between 40-80.\n",
    "\n",
    "2. **Sector Variations**: Different sectors show varying ESG performance patterns, with some sectors consistently outperforming others.\n",
    "\n",
    "3. **Component Correlations**: The three ESG components (Environmental, Social, Governance) show moderate to strong correlations with each other, suggesting companies that perform well in one area tend to perform well in others.\n",
    "\n",
    "4. **Financial Performance Relationships**: \n",
    "   - ESG scores show varying correlations with financial metrics\n",
    "   - Some relationships may be statistically significant while others may not\n",
    "   - The strength and direction of correlations can provide insights for investment decisions\n",
    "\n",
    "5. **Top vs Bottom Performers**: Companies with higher ESG scores may show different risk-return profiles compared to lower-scoring companies.\n",
    "\n",
    "### Next Steps:\n",
    "\n",
    "1. **Data Quality**: Improve data collection to include more companies and time series data\n",
    "2. **Advanced Analytics**: Implement machine learning models for ESG score prediction\n",
    "3. **Risk Analysis**: Conduct deeper analysis of ESG impact on investment risk\n",
    "4. **Sector Benchmarking**: Develop sector-specific ESG benchmarks\n",
    "5. **Dashboard Integration**: Integrate these insights into the interactive dashboard"
   ]
  }
 ],
 "metadata": {
  "kernelspec": {
   "display_name": "Python 3",
   "language": "python",
   "name": "python3"
  },
  "language_info": {
   "codemirror_mode": {
    "name": "ipython",
    "version": 3
   },
   "file_extension": ".py",
   "mimetype": "text/x-python",
   "name": "python",
   "nbconvert_exporter": "python",
   "pygments_lexer": "ipython3",
   "version": "3.9.0"
  }
 },
 "nbformat": 4,
 "nbformat_minor": 4
}